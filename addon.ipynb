{
 "cells": [
  {
   "cell_type": "code",
   "execution_count": null,
   "metadata": {},
   "outputs": [],
   "source": [
    "from pyspark.sql import *\n",
    "import pyspark.sql.functions as F\n",
    "from pyspark.ml.recommendation import ALS, ALSModel\n",
    "import pandas as pd\n",
    "import numpy as np\n",
    "from sklearn.preprocessing import StandardScaler"
   ]
  },
  {
   "cell_type": "code",
   "execution_count": null,
   "metadata": {},
   "outputs": [],
   "source": [
    "appName = \"add on\"\n",
    "master = \"local\""
   ]
  },
  {
   "cell_type": "code",
   "execution_count": null,
   "metadata": {},
   "outputs": [],
   "source": [
    "spark = SparkSession.builder \\\n",
    "    .appName(appName) \\\n",
    "    .master(master) \\\n",
    "    .config(\"spark.sql.broadcastTimeout\", \"36000\") \\\n",
    "    .getOrCreate()"
   ]
  },
  {
   "cell_type": "markdown",
   "metadata": {},
   "source": [
    "### load model"
   ]
  },
  {
   "cell_type": "code",
   "execution_count": 4,
   "metadata": {},
   "outputs": [],
   "source": [
    "TEMP_PATH = \"models/ALS_{}_{}_{}\".format(20, 0.01, 1.0)"
   ]
  },
  {
   "cell_type": "code",
   "execution_count": 5,
   "metadata": {},
   "outputs": [],
   "source": [
    "ALS_PATH = TEMP_PATH + \"/als\"\n",
    "MODEL_PATH = TEMP_PATH + \"/als_model\""
   ]
  },
  {
   "cell_type": "code",
   "execution_count": 6,
   "metadata": {},
   "outputs": [],
   "source": [
    "als = ALS.load(ALS_PATH)"
   ]
  },
  {
   "cell_type": "code",
   "execution_count": 7,
   "metadata": {},
   "outputs": [],
   "source": [
    "model = ALSModel.load(MODEL_PATH)"
   ]
  },
  {
   "cell_type": "markdown",
   "metadata": {},
   "source": [
    "### process genres"
   ]
  },
  {
   "cell_type": "code",
   "execution_count": 8,
   "metadata": {},
   "outputs": [],
   "source": [
    "sdf = spark.read.json(\"../goodreads_book_genres_initial.json\")"
   ]
  },
  {
   "cell_type": "code",
   "execution_count": 9,
   "metadata": {},
   "outputs": [
    {
     "name": "stdout",
     "output_type": "stream",
     "text": [
      "root\n",
      " |-- book_id: string (nullable = true)\n",
      " |-- genres: struct (nullable = true)\n",
      " |    |-- children: long (nullable = true)\n",
      " |    |-- comics, graphic: long (nullable = true)\n",
      " |    |-- fantasy, paranormal: long (nullable = true)\n",
      " |    |-- fiction: long (nullable = true)\n",
      " |    |-- history, historical fiction, biography: long (nullable = true)\n",
      " |    |-- mystery, thriller, crime: long (nullable = true)\n",
      " |    |-- non-fiction: long (nullable = true)\n",
      " |    |-- poetry: long (nullable = true)\n",
      " |    |-- romance: long (nullable = true)\n",
      " |    |-- young-adult: long (nullable = true)\n",
      "\n"
     ]
    }
   ],
   "source": [
    "sdf.printSchema()"
   ]
  },
  {
   "cell_type": "code",
   "execution_count": 10,
   "metadata": {},
   "outputs": [],
   "source": [
    "genres_rows = sdf.collect()"
   ]
  },
  {
   "cell_type": "code",
   "execution_count": 11,
   "metadata": {},
   "outputs": [],
   "source": [
    "def find_genre(dic):\n",
    "    for k, v in dic.items():\n",
    "        if v is None:\n",
    "            dic[k] = 0\n",
    "    return max(dic, key = dic.get)"
   ]
  },
  {
   "cell_type": "code",
   "execution_count": 12,
   "metadata": {},
   "outputs": [],
   "source": [
    "genres = {genres_rows[i][0]: find_genre(genres_rows[i][1].asDict()) for i in range(len(genres_rows))}"
   ]
  },
  {
   "cell_type": "code",
   "execution_count": 13,
   "metadata": {},
   "outputs": [],
   "source": [
    "genres_df = pd.DataFrame(genres.items(), columns=[\"id\", \"genre\"])"
   ]
  },
  {
   "cell_type": "code",
   "execution_count": 14,
   "metadata": {},
   "outputs": [
    {
     "data": {
      "text/html": [
       "<div>\n",
       "<style scoped>\n",
       "    .dataframe tbody tr th:only-of-type {\n",
       "        vertical-align: middle;\n",
       "    }\n",
       "\n",
       "    .dataframe tbody tr th {\n",
       "        vertical-align: top;\n",
       "    }\n",
       "\n",
       "    .dataframe thead th {\n",
       "        text-align: right;\n",
       "    }\n",
       "</style>\n",
       "<table border=\"1\" class=\"dataframe\">\n",
       "  <thead>\n",
       "    <tr style=\"text-align: right;\">\n",
       "      <th></th>\n",
       "      <th>id</th>\n",
       "      <th>genre</th>\n",
       "    </tr>\n",
       "  </thead>\n",
       "  <tbody>\n",
       "    <tr>\n",
       "      <th>0</th>\n",
       "      <td>5333265</td>\n",
       "      <td>history, historical fiction, biography</td>\n",
       "    </tr>\n",
       "    <tr>\n",
       "      <th>1</th>\n",
       "      <td>1333909</td>\n",
       "      <td>fiction</td>\n",
       "    </tr>\n",
       "    <tr>\n",
       "      <th>2</th>\n",
       "      <td>7327624</td>\n",
       "      <td>fantasy, paranormal</td>\n",
       "    </tr>\n",
       "    <tr>\n",
       "      <th>3</th>\n",
       "      <td>6066819</td>\n",
       "      <td>fiction</td>\n",
       "    </tr>\n",
       "    <tr>\n",
       "      <th>4</th>\n",
       "      <td>287140</td>\n",
       "      <td>non-fiction</td>\n",
       "    </tr>\n",
       "  </tbody>\n",
       "</table>\n",
       "</div>"
      ],
      "text/plain": [
       "        id                                   genre\n",
       "0  5333265  history, historical fiction, biography\n",
       "1  1333909                                 fiction\n",
       "2  7327624                     fantasy, paranormal\n",
       "3  6066819                                 fiction\n",
       "4   287140                             non-fiction"
      ]
     },
     "execution_count": 14,
     "metadata": {},
     "output_type": "execute_result"
    }
   ],
   "source": [
    "genres_df.head()"
   ]
  },
  {
   "cell_type": "markdown",
   "metadata": {},
   "source": [
    "### get latent items"
   ]
  },
  {
   "cell_type": "code",
   "execution_count": 15,
   "metadata": {},
   "outputs": [
    {
     "data": {
      "text/plain": [
       "DataFrame[num: int, id: string]"
      ]
     },
     "execution_count": 15,
     "metadata": {},
     "output_type": "execute_result"
    }
   ],
   "source": [
    "books_mapping = spark.read.parquet(\"data_local/raw/book_map.parquet\")\n",
    "books_mapping"
   ]
  },
  {
   "cell_type": "code",
   "execution_count": 16,
   "metadata": {},
   "outputs": [
    {
     "data": {
      "text/plain": [
       "DataFrame[id: int, features: array<float>]"
      ]
     },
     "execution_count": 16,
     "metadata": {},
     "output_type": "execute_result"
    }
   ],
   "source": [
    "latent_items = model.itemFactors\n",
    "latent_items"
   ]
  },
  {
   "cell_type": "code",
   "execution_count": 17,
   "metadata": {},
   "outputs": [],
   "source": [
    "books_mapping.createOrReplaceTempView(\"books_mapping\")\n",
    "latent_items.createOrReplaceTempView(\"latent_items\")"
   ]
  },
  {
   "cell_type": "code",
   "execution_count": 18,
   "metadata": {},
   "outputs": [],
   "source": [
    "latent_items_with_id = spark.sql(\"SELECT a.id AS id, b.features FROM books_mapping a INNER JOIN latent_items b ON a.num = b.id\")"
   ]
  },
  {
   "cell_type": "code",
   "execution_count": 19,
   "metadata": {},
   "outputs": [],
   "source": [
    "latent_items_df = latent_items_with_id.toPandas()"
   ]
  },
  {
   "cell_type": "code",
   "execution_count": 20,
   "metadata": {},
   "outputs": [
    {
     "data": {
      "text/html": [
       "<div>\n",
       "<style scoped>\n",
       "    .dataframe tbody tr th:only-of-type {\n",
       "        vertical-align: middle;\n",
       "    }\n",
       "\n",
       "    .dataframe tbody tr th {\n",
       "        vertical-align: top;\n",
       "    }\n",
       "\n",
       "    .dataframe thead th {\n",
       "        text-align: right;\n",
       "    }\n",
       "</style>\n",
       "<table border=\"1\" class=\"dataframe\">\n",
       "  <thead>\n",
       "    <tr style=\"text-align: right;\">\n",
       "      <th></th>\n",
       "      <th>id</th>\n",
       "      <th>features</th>\n",
       "    </tr>\n",
       "  </thead>\n",
       "  <tbody>\n",
       "    <tr>\n",
       "      <th>0</th>\n",
       "      <td>7015635</td>\n",
       "      <td>[0.31482553482055664, -0.19428367912769318, 0....</td>\n",
       "    </tr>\n",
       "    <tr>\n",
       "      <th>1</th>\n",
       "      <td>6719017</td>\n",
       "      <td>[0.5416654944419861, 0.046169672161340714, 0.6...</td>\n",
       "    </tr>\n",
       "    <tr>\n",
       "      <th>2</th>\n",
       "      <td>9895917</td>\n",
       "      <td>[0.32508018612861633, 0.17077623307704926, 0.4...</td>\n",
       "    </tr>\n",
       "    <tr>\n",
       "      <th>3</th>\n",
       "      <td>8694005</td>\n",
       "      <td>[0.7871549129486084, 0.6814177632331848, 0.184...</td>\n",
       "    </tr>\n",
       "    <tr>\n",
       "      <th>4</th>\n",
       "      <td>32542</td>\n",
       "      <td>[-0.25290924310684204, -0.2115345001220703, 0....</td>\n",
       "    </tr>\n",
       "  </tbody>\n",
       "</table>\n",
       "</div>"
      ],
      "text/plain": [
       "        id                                           features\n",
       "0  7015635  [0.31482553482055664, -0.19428367912769318, 0....\n",
       "1  6719017  [0.5416654944419861, 0.046169672161340714, 0.6...\n",
       "2  9895917  [0.32508018612861633, 0.17077623307704926, 0.4...\n",
       "3  8694005  [0.7871549129486084, 0.6814177632331848, 0.184...\n",
       "4    32542  [-0.25290924310684204, -0.2115345001220703, 0...."
      ]
     },
     "execution_count": 20,
     "metadata": {},
     "output_type": "execute_result"
    }
   ],
   "source": [
    "latent_items_df.head()"
   ]
  },
  {
   "cell_type": "markdown",
   "metadata": {},
   "source": [
    "### join"
   ]
  },
  {
   "cell_type": "code",
   "execution_count": 21,
   "metadata": {},
   "outputs": [
    {
     "data": {
      "text/html": [
       "<div>\n",
       "<style scoped>\n",
       "    .dataframe tbody tr th:only-of-type {\n",
       "        vertical-align: middle;\n",
       "    }\n",
       "\n",
       "    .dataframe tbody tr th {\n",
       "        vertical-align: top;\n",
       "    }\n",
       "\n",
       "    .dataframe thead th {\n",
       "        text-align: right;\n",
       "    }\n",
       "</style>\n",
       "<table border=\"1\" class=\"dataframe\">\n",
       "  <thead>\n",
       "    <tr style=\"text-align: right;\">\n",
       "      <th></th>\n",
       "      <th>id</th>\n",
       "      <th>features</th>\n",
       "      <th>genre</th>\n",
       "    </tr>\n",
       "  </thead>\n",
       "  <tbody>\n",
       "    <tr>\n",
       "      <th>0</th>\n",
       "      <td>7015635</td>\n",
       "      <td>[0.31482553482055664, -0.19428367912769318, 0....</td>\n",
       "      <td>non-fiction</td>\n",
       "    </tr>\n",
       "    <tr>\n",
       "      <th>1</th>\n",
       "      <td>6719017</td>\n",
       "      <td>[0.5416654944419861, 0.046169672161340714, 0.6...</td>\n",
       "      <td>non-fiction</td>\n",
       "    </tr>\n",
       "    <tr>\n",
       "      <th>2</th>\n",
       "      <td>9895917</td>\n",
       "      <td>[0.32508018612861633, 0.17077623307704926, 0.4...</td>\n",
       "      <td>non-fiction</td>\n",
       "    </tr>\n",
       "    <tr>\n",
       "      <th>3</th>\n",
       "      <td>8694005</td>\n",
       "      <td>[0.7871549129486084, 0.6814177632331848, 0.184...</td>\n",
       "      <td>fiction</td>\n",
       "    </tr>\n",
       "    <tr>\n",
       "      <th>4</th>\n",
       "      <td>32542</td>\n",
       "      <td>[-0.25290924310684204, -0.2115345001220703, 0....</td>\n",
       "      <td>mystery, thriller, crime</td>\n",
       "    </tr>\n",
       "  </tbody>\n",
       "</table>\n",
       "</div>"
      ],
      "text/plain": [
       "        id                                           features  \\\n",
       "0  7015635  [0.31482553482055664, -0.19428367912769318, 0....   \n",
       "1  6719017  [0.5416654944419861, 0.046169672161340714, 0.6...   \n",
       "2  9895917  [0.32508018612861633, 0.17077623307704926, 0.4...   \n",
       "3  8694005  [0.7871549129486084, 0.6814177632331848, 0.184...   \n",
       "4    32542  [-0.25290924310684204, -0.2115345001220703, 0....   \n",
       "\n",
       "                      genre  \n",
       "0               non-fiction  \n",
       "1               non-fiction  \n",
       "2               non-fiction  \n",
       "3                   fiction  \n",
       "4  mystery, thriller, crime  "
      ]
     },
     "execution_count": 21,
     "metadata": {},
     "output_type": "execute_result"
    }
   ],
   "source": [
    "df = pd.merge(latent_items_df, genres_df, on=\"id\")\n",
    "df.head()"
   ]
  },
  {
   "cell_type": "markdown",
   "metadata": {},
   "source": [
    "### train and save UMAP for latent factors of items"
   ]
  },
  {
   "cell_type": "code",
   "execution_count": 22,
   "metadata": {},
   "outputs": [
    {
     "data": {
      "text/plain": [
       "(2290756, 20)"
      ]
     },
     "execution_count": 22,
     "metadata": {},
     "output_type": "execute_result"
    }
   ],
   "source": [
    "X = np.vstack(list(df.features))\n",
    "X.shape"
   ]
  },
  {
   "cell_type": "code",
   "execution_count": 23,
   "metadata": {},
   "outputs": [],
   "source": [
    "X = StandardScaler().fit_transform(X)"
   ]
  },
  {
   "cell_type": "code",
   "execution_count": 24,
   "metadata": {},
   "outputs": [],
   "source": [
    "samples = np.random.choice(X.shape[0], 200000, replace=False)"
   ]
  },
  {
   "cell_type": "code",
   "execution_count": 25,
   "metadata": {},
   "outputs": [],
   "source": [
    "np.save(\"data_local/processed/samples.npy\", samples)"
   ]
  },
  {
   "cell_type": "code",
   "execution_count": 26,
   "metadata": {},
   "outputs": [],
   "source": [
    "from umap import UMAP"
   ]
  },
  {
   "cell_type": "code",
   "execution_count": 27,
   "metadata": {},
   "outputs": [
    {
     "name": "stdout",
     "output_type": "stream",
     "text": [
      "UMAP(a=None, angular_rp_forest=False, b=None,\n",
      "     force_approximation_algorithm=False, init='spectral', learning_rate=1.0,\n",
      "     local_connectivity=1.0, low_memory=False, metric='euclidean',\n",
      "     metric_kwds=None, min_dist=0.1, n_components=2, n_epochs=None,\n",
      "     n_neighbors=15, negative_sample_rate=5, output_metric='euclidean',\n",
      "     output_metric_kwds=None, random_state=None, repulsion_strength=1.0,\n",
      "     set_op_mix_ratio=1.0, spread=1.0, target_metric='categorical',\n",
      "     target_metric_kwds=None, target_n_neighbors=-1, target_weight=0.5,\n",
      "     transform_queue_size=4.0, transform_seed=42, unique=False, verbose=True)\n",
      "Construct fuzzy simplicial set\n",
      "Wed May  6 18:58:36 2020 Finding Nearest Neighbors\n",
      "Wed May  6 18:58:36 2020 Building RP forest with 27 trees\n",
      "Wed May  6 18:58:49 2020 NN descent for 18 iterations\n",
      "\t 0  /  18\n",
      "\t 1  /  18\n",
      "\t 2  /  18\n",
      "\t 3  /  18\n",
      "\t 4  /  18\n",
      "\t 5  /  18\n",
      "\t 6  /  18\n",
      "\t 7  /  18\n",
      "\t 8  /  18\n",
      "\t 9  /  18\n",
      "\t 10  /  18\n",
      "\t 11  /  18\n",
      "\t 12  /  18\n",
      "\t 13  /  18\n",
      "\t 14  /  18\n",
      "\t 15  /  18\n",
      "Wed May  6 19:07:43 2020 Finished Nearest Neighbor Search\n",
      "Wed May  6 19:08:07 2020 Construct embedding\n",
      "\tcompleted  0  /  200 epochs\n",
      "\tcompleted  20  /  200 epochs\n",
      "\tcompleted  40  /  200 epochs\n",
      "\tcompleted  60  /  200 epochs\n",
      "\tcompleted  80  /  200 epochs\n",
      "\tcompleted  100  /  200 epochs\n",
      "\tcompleted  120  /  200 epochs\n",
      "\tcompleted  140  /  200 epochs\n",
      "\tcompleted  160  /  200 epochs\n",
      "\tcompleted  180  /  200 epochs\n",
      "Wed May  6 19:09:52 2020 Finished embedding\n"
     ]
    }
   ],
   "source": [
    "mapper = UMAP(verbose=True).fit(X[samples])\n",
    "X_embedded = mapper.transform(X[samples])"
   ]
  },
  {
   "cell_type": "code",
   "execution_count": 28,
   "metadata": {},
   "outputs": [],
   "source": [
    "np.save(\"data_local/processed/umap_embeddings.npy\", X_embedded)"
   ]
  },
  {
   "cell_type": "code",
   "execution_count": 29,
   "metadata": {},
   "outputs": [],
   "source": [
    "import pickle\n",
    "pickle.dump(mapper, open(\"data_local/processed/umap_mapper.pkl\", \"wb\"))"
   ]
  },
  {
   "cell_type": "markdown",
   "metadata": {},
   "source": [
    "### plot UMAP results for latent factors of items"
   ]
  },
  {
   "cell_type": "code",
   "execution_count": 30,
   "metadata": {},
   "outputs": [],
   "source": [
    "mapper = pickle.load(open(\"data_local/processed/umap_mapper.pkl\", \"rb\"))\n",
    "X_embedded = np.load(\"data_local/processed/umap_embeddings.npy\")\n",
    "samples = np.load(\"data_local/processed/samples.npy\")"
   ]
  },
  {
   "cell_type": "code",
   "execution_count": 31,
   "metadata": {},
   "outputs": [
    {
     "name": "stderr",
     "output_type": "stream",
     "text": [
      "/anaconda3/lib/python3.7/site-packages/dask/config.py:168: YAMLLoadWarning: calling yaml.load() without Loader=... is deprecated, as the default Loader is unsafe. Please read https://msg.pyyaml.org/load for full details.\n",
      "  data = yaml.load(f.read()) or {}\n",
      "/anaconda3/lib/python3.7/site-packages/dask/dataframe/utils.py:13: FutureWarning: pandas.util.testing is deprecated. Use the functions in the public API at pandas.testing instead.\n",
      "  import pandas.util.testing as tm\n"
     ]
    }
   ],
   "source": [
    "import umap.plot"
   ]
  },
  {
   "cell_type": "code",
   "execution_count": 52,
   "metadata": {},
   "outputs": [
    {
     "data": {
      "image/png": "[encoded data removed]",
      "text/plain": [
       "<Figure size 800x800 with 1 Axes>"
      ]
     },
     "metadata": {},
     "output_type": "display_data"
    }
   ],
   "source": [
    "umap.plot.points(mapper, labels=df.genre[samples], theme='fire')\n",
    "plt.savefig(\"figures/items.png\")"
   ]
  },
  {
   "cell_type": "code",
   "execution_count": 33,
   "metadata": {},
   "outputs": [],
   "source": [
    "import seaborn as sns\n",
    "from mpl_toolkits import mplot3d\n",
    "import matplotlib.pyplot as plt"
   ]
  },
  {
   "cell_type": "markdown",
   "metadata": {},
   "source": [
    "target_names = df.genre[samples].unique()\n",
    "plt.figure(figsize=(10,10))\n",
    "\n",
    "for target in target_names:\n",
    "    plt.scatter(X_embedded[df.genre[samples] == target, 0],X_embedded[df.genre[samples] == target, 1], label=target)\n",
    "plt.legend()\n",
    "plt.title(\"UMAP\")"
   ]
  },
  {
   "cell_type": "markdown",
   "metadata": {},
   "source": [
    "### latent factors of users"
   ]
  },
  {
   "cell_type": "code",
   "execution_count": 34,
   "metadata": {},
   "outputs": [],
   "source": [
    "latent_users_sdf = model.userFactors"
   ]
  },
  {
   "cell_type": "code",
   "execution_count": 35,
   "metadata": {},
   "outputs": [],
   "source": [
    "latent_users_df = latent_users_sdf.toPandas()"
   ]
  },
  {
   "cell_type": "code",
   "execution_count": 36,
   "metadata": {},
   "outputs": [
    {
     "data": {
      "text/html": [
       "<div>\n",
       "<style scoped>\n",
       "    .dataframe tbody tr th:only-of-type {\n",
       "        vertical-align: middle;\n",
       "    }\n",
       "\n",
       "    .dataframe tbody tr th {\n",
       "        vertical-align: top;\n",
       "    }\n",
       "\n",
       "    .dataframe thead th {\n",
       "        text-align: right;\n",
       "    }\n",
       "</style>\n",
       "<table border=\"1\" class=\"dataframe\">\n",
       "  <thead>\n",
       "    <tr style=\"text-align: right;\">\n",
       "      <th></th>\n",
       "      <th>id</th>\n",
       "      <th>features</th>\n",
       "    </tr>\n",
       "  </thead>\n",
       "  <tbody>\n",
       "    <tr>\n",
       "      <th>0</th>\n",
       "      <td>8</td>\n",
       "      <td>[0.28792116045951843, -0.41130444407463074, 0....</td>\n",
       "    </tr>\n",
       "    <tr>\n",
       "      <th>1</th>\n",
       "      <td>18</td>\n",
       "      <td>[-0.5833119750022888, -0.23449768126010895, 1....</td>\n",
       "    </tr>\n",
       "    <tr>\n",
       "      <th>2</th>\n",
       "      <td>28</td>\n",
       "      <td>[0.16422714293003082, -0.4007911682128906, 0.5...</td>\n",
       "    </tr>\n",
       "    <tr>\n",
       "      <th>3</th>\n",
       "      <td>38</td>\n",
       "      <td>[0.8863768577575684, -0.03657503426074982, 0.9...</td>\n",
       "    </tr>\n",
       "    <tr>\n",
       "      <th>4</th>\n",
       "      <td>48</td>\n",
       "      <td>[1.6358568668365479, -1.588679552078247, 2.306...</td>\n",
       "    </tr>\n",
       "    <tr>\n",
       "      <th>...</th>\n",
       "      <td>...</td>\n",
       "      <td>...</td>\n",
       "    </tr>\n",
       "    <tr>\n",
       "      <th>772722</th>\n",
       "      <td>876096</td>\n",
       "      <td>[-1.104970097541809, 0.4229148030281067, 1.343...</td>\n",
       "    </tr>\n",
       "    <tr>\n",
       "      <th>772723</th>\n",
       "      <td>876106</td>\n",
       "      <td>[0.6191530227661133, -2.4220681190490723, -0.0...</td>\n",
       "    </tr>\n",
       "    <tr>\n",
       "      <th>772724</th>\n",
       "      <td>876116</td>\n",
       "      <td>[0.9806831479072571, -0.007004182320088148, 0....</td>\n",
       "    </tr>\n",
       "    <tr>\n",
       "      <th>772725</th>\n",
       "      <td>876126</td>\n",
       "      <td>[0.30849775671958923, -1.237099051475525, 1.35...</td>\n",
       "    </tr>\n",
       "    <tr>\n",
       "      <th>772726</th>\n",
       "      <td>876136</td>\n",
       "      <td>[-0.3319728374481201, 0.0649338811635971, 0.30...</td>\n",
       "    </tr>\n",
       "  </tbody>\n",
       "</table>\n",
       "<p>772727 rows × 2 columns</p>\n",
       "</div>"
      ],
      "text/plain": [
       "            id                                           features\n",
       "0            8  [0.28792116045951843, -0.41130444407463074, 0....\n",
       "1           18  [-0.5833119750022888, -0.23449768126010895, 1....\n",
       "2           28  [0.16422714293003082, -0.4007911682128906, 0.5...\n",
       "3           38  [0.8863768577575684, -0.03657503426074982, 0.9...\n",
       "4           48  [1.6358568668365479, -1.588679552078247, 2.306...\n",
       "...        ...                                                ...\n",
       "772722  876096  [-1.104970097541809, 0.4229148030281067, 1.343...\n",
       "772723  876106  [0.6191530227661133, -2.4220681190490723, -0.0...\n",
       "772724  876116  [0.9806831479072571, -0.007004182320088148, 0....\n",
       "772725  876126  [0.30849775671958923, -1.237099051475525, 1.35...\n",
       "772726  876136  [-0.3319728374481201, 0.0649338811635971, 0.30...\n",
       "\n",
       "[772727 rows x 2 columns]"
      ]
     },
     "execution_count": 36,
     "metadata": {},
     "output_type": "execute_result"
    }
   ],
   "source": [
    "latent_users_df"
   ]
  },
  {
   "cell_type": "code",
   "execution_count": 37,
   "metadata": {},
   "outputs": [],
   "source": [
    "X = np.vstack(list(latent_users_df.features))"
   ]
  },
  {
   "cell_type": "code",
   "execution_count": 38,
   "metadata": {},
   "outputs": [
    {
     "data": {
      "text/plain": [
       "(772727, 20)"
      ]
     },
     "execution_count": 38,
     "metadata": {},
     "output_type": "execute_result"
    }
   ],
   "source": [
    "X.shape"
   ]
  },
  {
   "cell_type": "code",
   "execution_count": 39,
   "metadata": {},
   "outputs": [],
   "source": [
    "X = StandardScaler().fit_transform(X)"
   ]
  },
  {
   "cell_type": "code",
   "execution_count": 40,
   "metadata": {},
   "outputs": [],
   "source": [
    "samples_users = np.random.choice(X.shape[0], 200000, replace=False)"
   ]
  },
  {
   "cell_type": "code",
   "execution_count": 41,
   "metadata": {},
   "outputs": [],
   "source": [
    "np.save(\"data_local/processed/samples_users.npy\", samples_users)"
   ]
  },
  {
   "cell_type": "code",
   "execution_count": 42,
   "metadata": {},
   "outputs": [
    {
     "name": "stdout",
     "output_type": "stream",
     "text": [
      "UMAP(a=None, angular_rp_forest=False, b=None,\n",
      "     force_approximation_algorithm=False, init='spectral', learning_rate=1.0,\n",
      "     local_connectivity=1.0, low_memory=False, metric='euclidean',\n",
      "     metric_kwds=None, min_dist=0.1, n_components=2, n_epochs=None,\n",
      "     n_neighbors=15, negative_sample_rate=5, output_metric='euclidean',\n",
      "     output_metric_kwds=None, random_state=None, repulsion_strength=1.0,\n",
      "     set_op_mix_ratio=1.0, spread=1.0, target_metric='categorical',\n",
      "     target_metric_kwds=None, target_n_neighbors=-1, target_weight=0.5,\n",
      "     transform_queue_size=4.0, transform_seed=42, unique=False, verbose=True)\n",
      "Construct fuzzy simplicial set\n",
      "Wed May  6 19:10:15 2020 Finding Nearest Neighbors\n",
      "Wed May  6 19:10:15 2020 Building RP forest with 27 trees\n",
      "Wed May  6 19:10:30 2020 NN descent for 18 iterations\n",
      "\t 0  /  18\n",
      "\t 1  /  18\n",
      "\t 2  /  18\n",
      "\t 3  /  18\n",
      "\t 4  /  18\n",
      "\t 5  /  18\n",
      "\t 6  /  18\n",
      "\t 7  /  18\n",
      "\t 8  /  18\n",
      "\t 9  /  18\n",
      "\t 10  /  18\n",
      "\t 11  /  18\n",
      "\t 12  /  18\n",
      "\t 13  /  18\n",
      "\t 14  /  18\n",
      "\t 15  /  18\n",
      "Wed May  6 19:22:01 2020 Finished Nearest Neighbor Search\n",
      "Wed May  6 19:22:11 2020 Construct embedding\n",
      "\tcompleted  0  /  200 epochs\n",
      "\tcompleted  20  /  200 epochs\n",
      "\tcompleted  40  /  200 epochs\n",
      "\tcompleted  60  /  200 epochs\n",
      "\tcompleted  80  /  200 epochs\n",
      "\tcompleted  100  /  200 epochs\n",
      "\tcompleted  120  /  200 epochs\n",
      "\tcompleted  140  /  200 epochs\n",
      "\tcompleted  160  /  200 epochs\n",
      "\tcompleted  180  /  200 epochs\n",
      "Wed May  6 19:23:54 2020 Finished embedding\n"
     ]
    }
   ],
   "source": [
    "mapper_users = UMAP(verbose=True).fit(X[samples_users])\n",
    "X_embedded = mapper_users.transform(X[samples_users])"
   ]
  },
  {
   "cell_type": "code",
   "execution_count": 43,
   "metadata": {},
   "outputs": [],
   "source": [
    "np.save(\"data_local/processed/umap_embeddings_users.npy\", X_embedded)\n",
    "pickle.dump(mapper_users, open(\"data_local/processed/umap_mapper_users.pkl\", \"wb\"))"
   ]
  },
  {
   "cell_type": "code",
   "execution_count": 44,
   "metadata": {},
   "outputs": [],
   "source": [
    "mapper_users = pickle.load(open(\"data_local/processed/umap_mapper_users.pkl\", \"rb\"))\n",
    "X_embedded = np.load(\"data_local/processed/umap_embeddings_users.npy\")\n",
    "samples_users = np.load(\"data_local/processed/samples_users.npy\")"
   ]
  },
  {
   "cell_type": "code",
   "execution_count": 50,
   "metadata": {},
   "outputs": [
    {
     "name": "stderr",
     "output_type": "stream",
     "text": [
      "/Users/zianjiang/.local/lib/python3.7/site-packages/matplotlib/colors.py:527: RuntimeWarning: invalid value encountered in less\n",
      "  xa[xa < 0] = -1\n"
     ]
    },
    {
     "data": {
      "image/png": "[encoded data removed]",
      "text/plain": [
       "<Figure size 800x800 with 1 Axes>"
      ]
     },
     "metadata": {},
     "output_type": "display_data"
    }
   ],
   "source": [
    "umap.plot.points(mapper_users, theme='fire')\n",
    "plt.savefig(\"figures/uesrs.png\")"
   ]
  },
  {
   "cell_type": "code",
   "execution_count": null,
   "metadata": {},
   "outputs": [],
   "source": []
  }
 ],
 "metadata": {
  "kernelspec": {
   "display_name": "Python 3",
   "language": "python",
   "name": "python3"
  },
  "language_info": {
   "codemirror_mode": {
    "name": "ipython",
    "version": 3
   },
   "file_extension": ".py",
   "mimetype": "text/x-python",
   "name": "python",
   "nbconvert_exporter": "python",
   "pygments_lexer": "ipython3",
   "version": "3.7.7"
  }
 },
 "nbformat": 4,
 "nbformat_minor": 4
}
